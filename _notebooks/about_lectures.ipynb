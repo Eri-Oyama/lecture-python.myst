{
 "cells": [
  {
   "cell_type": "markdown",
   "metadata": {},
   "source": [
    "\n",
    "<a id='about-lectures'></a>"
   ]
  },
  {
   "cell_type": "markdown",
   "metadata": {},
   "source": [
    "# About these Lectures\n",
    "\n",
    "This is one of a series of online texts on modern quantitative\n",
    "economics and programming with Python. This is the second text\n",
    "in the series, which focuses on introductory material.\n",
    "\n",
    "For an overview of the series, see [this page](https://quantecon.org/python-lectures/)"
   ]
  }
 ],
 "metadata": {
  "date": 1607491270.20064,
  "filename": "about_lectures.md",
  "kernelspec": {
   "display_name": "Python",
   "language": "python3",
   "name": "python3"
  },
  "title": "About these Lectures"
 },
 "nbformat": 4,
 "nbformat_minor": 4
}