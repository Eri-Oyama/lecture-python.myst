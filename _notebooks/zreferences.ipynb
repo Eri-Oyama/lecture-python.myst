{
 "cells": [
  {
   "cell_type": "markdown",
   "metadata": {},
   "source": [
    "\n",
    "<a id='references'></a>"
   ]
  },
  {
   "cell_type": "markdown",
   "metadata": {},
   "source": [
    "# References"
   ]
  }
 ],
 "metadata": {
  "date": 1612826865.565149,
  "filename": "zreferences.md",
  "kernelspec": {
   "display_name": "Python",
   "language": "python3",
   "name": "python3"
  },
  "title": "References"
 },
 "nbformat": 4,
 "nbformat_minor": 4
}